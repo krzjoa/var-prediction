{
 "cells": [
  {
   "cell_type": "code",
   "execution_count": 61,
   "metadata": {
    "collapsed": false,
    "deletable": true,
    "editable": true
   },
   "outputs": [],
   "source": [
    "%matplotlib inline\n",
    "import numpy as np\n",
    "import pandas as pd\n",
    "import matplotlib.pyplot as plt"
   ]
  },
  {
   "cell_type": "code",
   "execution_count": 62,
   "metadata": {
    "collapsed": true,
    "deletable": true,
    "editable": true
   },
   "outputs": [],
   "source": [
    "TIMESERIES = \"data/timeseries.csv\""
   ]
  },
  {
   "cell_type": "code",
   "execution_count": 63,
   "metadata": {
    "collapsed": true,
    "deletable": true,
    "editable": true
   },
   "outputs": [],
   "source": [
    "df = pd.read_csv(TIMESERIES, parse_dates=['Date', 'DateIdx'])"
   ]
  },
  {
   "cell_type": "code",
   "execution_count": 64,
   "metadata": {
    "collapsed": false,
    "deletable": true,
    "editable": true
   },
   "outputs": [
    {
     "data": {
      "text/plain": [
       "35040"
      ]
     },
     "execution_count": 64,
     "metadata": {},
     "output_type": "execute_result"
    }
   ],
   "source": [
    "len(df)"
   ]
  },
  {
   "cell_type": "code",
   "execution_count": 65,
   "metadata": {
    "collapsed": false,
    "deletable": true,
    "editable": true
   },
   "outputs": [
    {
     "data": {
      "text/plain": [
       "35040"
      ]
     },
     "execution_count": 65,
     "metadata": {},
     "output_type": "execute_result"
    }
   ],
   "source": [
    "sum(df.DateIdx == df.Date)"
   ]
  },
  {
   "cell_type": "code",
   "execution_count": 66,
   "metadata": {
    "collapsed": false,
    "deletable": true,
    "editable": true
   },
   "outputs": [],
   "source": [
    "cols = df.columns"
   ]
  },
  {
   "cell_type": "code",
   "execution_count": 67,
   "metadata": {
    "collapsed": false,
    "deletable": true,
    "editable": true
   },
   "outputs": [
    {
     "data": {
      "text/plain": [
       "Index([u'DateIdx', u'Date', u'VAR', u'dewpti', u'hum', u'pressurei', u'rain',\n",
       "       u'tempi', u'thunder', u'Day', u'Holiday', u'PCA_1'],\n",
       "      dtype='object')"
      ]
     },
     "execution_count": 67,
     "metadata": {},
     "output_type": "execute_result"
    }
   ],
   "source": [
    "cols"
   ]
  },
  {
   "cell_type": "code",
   "execution_count": 68,
   "metadata": {
    "collapsed": false,
    "deletable": true,
    "editable": true
   },
   "outputs": [],
   "source": [
    "df = df[cols[1:]]"
   ]
  },
  {
   "cell_type": "code",
   "execution_count": 69,
   "metadata": {
    "collapsed": false,
    "deletable": true,
    "editable": true
   },
   "outputs": [
    {
     "data": {
      "text/html": [
       "<div>\n",
       "<style scoped>\n",
       "    .dataframe tbody tr th:only-of-type {\n",
       "        vertical-align: middle;\n",
       "    }\n",
       "\n",
       "    .dataframe tbody tr th {\n",
       "        vertical-align: top;\n",
       "    }\n",
       "\n",
       "    .dataframe thead th {\n",
       "        text-align: right;\n",
       "    }\n",
       "</style>\n",
       "<table border=\"1\" class=\"dataframe\">\n",
       "  <thead>\n",
       "    <tr style=\"text-align: right;\">\n",
       "      <th></th>\n",
       "      <th>Date</th>\n",
       "      <th>VAR</th>\n",
       "      <th>dewpti</th>\n",
       "      <th>hum</th>\n",
       "      <th>pressurei</th>\n",
       "      <th>rain</th>\n",
       "      <th>tempi</th>\n",
       "      <th>thunder</th>\n",
       "      <th>Day</th>\n",
       "      <th>Holiday</th>\n",
       "      <th>PCA_1</th>\n",
       "    </tr>\n",
       "  </thead>\n",
       "  <tbody>\n",
       "    <tr>\n",
       "      <th>0</th>\n",
       "      <td>2016-05-01 00:00:00</td>\n",
       "      <td>24.25751</td>\n",
       "      <td>62.30</td>\n",
       "      <td>82.000000</td>\n",
       "      <td>29.960000</td>\n",
       "      <td>0.0</td>\n",
       "      <td>67.500000</td>\n",
       "      <td>0.0</td>\n",
       "      <td>1</td>\n",
       "      <td>0</td>\n",
       "      <td>-15.419709</td>\n",
       "    </tr>\n",
       "    <tr>\n",
       "      <th>1</th>\n",
       "      <td>2016-05-01 00:15:00</td>\n",
       "      <td>25.38191</td>\n",
       "      <td>49.85</td>\n",
       "      <td>84.458356</td>\n",
       "      <td>29.832557</td>\n",
       "      <td>0.0</td>\n",
       "      <td>67.257999</td>\n",
       "      <td>0.0</td>\n",
       "      <td>1</td>\n",
       "      <td>0</td>\n",
       "      <td>198.166945</td>\n",
       "    </tr>\n",
       "    <tr>\n",
       "      <th>2</th>\n",
       "      <td>2016-05-01 00:30:00</td>\n",
       "      <td>25.10542</td>\n",
       "      <td>62.60</td>\n",
       "      <td>88.000000</td>\n",
       "      <td>29.950000</td>\n",
       "      <td>0.0</td>\n",
       "      <td>66.200000</td>\n",
       "      <td>0.0</td>\n",
       "      <td>1</td>\n",
       "      <td>0</td>\n",
       "      <td>104.502454</td>\n",
       "    </tr>\n",
       "    <tr>\n",
       "      <th>3</th>\n",
       "      <td>2016-05-01 00:45:00</td>\n",
       "      <td>24.22065</td>\n",
       "      <td>62.45</td>\n",
       "      <td>85.750000</td>\n",
       "      <td>29.950000</td>\n",
       "      <td>0.0</td>\n",
       "      <td>66.400000</td>\n",
       "      <td>0.0</td>\n",
       "      <td>1</td>\n",
       "      <td>0</td>\n",
       "      <td>119.514737</td>\n",
       "    </tr>\n",
       "    <tr>\n",
       "      <th>4</th>\n",
       "      <td>2016-05-01 01:00:00</td>\n",
       "      <td>24.18378</td>\n",
       "      <td>62.30</td>\n",
       "      <td>83.500000</td>\n",
       "      <td>29.950000</td>\n",
       "      <td>0.0</td>\n",
       "      <td>66.600000</td>\n",
       "      <td>0.0</td>\n",
       "      <td>1</td>\n",
       "      <td>0</td>\n",
       "      <td>134.532242</td>\n",
       "    </tr>\n",
       "  </tbody>\n",
       "</table>\n",
       "</div>"
      ],
      "text/plain": [
       "                 Date       VAR  dewpti        hum  pressurei  rain  \\\n",
       "0 2016-05-01 00:00:00  24.25751   62.30  82.000000  29.960000   0.0   \n",
       "1 2016-05-01 00:15:00  25.38191   49.85  84.458356  29.832557   0.0   \n",
       "2 2016-05-01 00:30:00  25.10542   62.60  88.000000  29.950000   0.0   \n",
       "3 2016-05-01 00:45:00  24.22065   62.45  85.750000  29.950000   0.0   \n",
       "4 2016-05-01 01:00:00  24.18378   62.30  83.500000  29.950000   0.0   \n",
       "\n",
       "       tempi  thunder  Day  Holiday       PCA_1  \n",
       "0  67.500000      0.0    1        0  -15.419709  \n",
       "1  67.257999      0.0    1        0  198.166945  \n",
       "2  66.200000      0.0    1        0  104.502454  \n",
       "3  66.400000      0.0    1        0  119.514737  \n",
       "4  66.600000      0.0    1        0  134.532242  "
      ]
     },
     "execution_count": 69,
     "metadata": {},
     "output_type": "execute_result"
    }
   ],
   "source": [
    "df.head()"
   ]
  },
  {
   "cell_type": "code",
   "execution_count": 70,
   "metadata": {
    "collapsed": false,
    "deletable": true,
    "editable": true
   },
   "outputs": [
    {
     "data": {
      "text/html": [
       "<div>\n",
       "<style scoped>\n",
       "    .dataframe tbody tr th:only-of-type {\n",
       "        vertical-align: middle;\n",
       "    }\n",
       "\n",
       "    .dataframe tbody tr th {\n",
       "        vertical-align: top;\n",
       "    }\n",
       "\n",
       "    .dataframe thead th {\n",
       "        text-align: right;\n",
       "    }\n",
       "</style>\n",
       "<table border=\"1\" class=\"dataframe\">\n",
       "  <thead>\n",
       "    <tr style=\"text-align: right;\">\n",
       "      <th></th>\n",
       "      <th>VAR</th>\n",
       "      <th>dewpti</th>\n",
       "      <th>hum</th>\n",
       "      <th>pressurei</th>\n",
       "      <th>rain</th>\n",
       "      <th>tempi</th>\n",
       "      <th>thunder</th>\n",
       "      <th>Day</th>\n",
       "      <th>Holiday</th>\n",
       "      <th>PCA_1</th>\n",
       "    </tr>\n",
       "  </thead>\n",
       "  <tbody>\n",
       "    <tr>\n",
       "      <th>count</th>\n",
       "      <td>34368.000000</td>\n",
       "      <td>35040.000000</td>\n",
       "      <td>35040.000000</td>\n",
       "      <td>35040.000000</td>\n",
       "      <td>35040.000000</td>\n",
       "      <td>35040.000000</td>\n",
       "      <td>35040.000000</td>\n",
       "      <td>35040.000000</td>\n",
       "      <td>35040.000000</td>\n",
       "      <td>3.504000e+04</td>\n",
       "    </tr>\n",
       "    <tr>\n",
       "      <th>mean</th>\n",
       "      <td>24.551156</td>\n",
       "      <td>52.720154</td>\n",
       "      <td>61.963899</td>\n",
       "      <td>29.979410</td>\n",
       "      <td>0.076163</td>\n",
       "      <td>66.614993</td>\n",
       "      <td>0.003289</td>\n",
       "      <td>0.287671</td>\n",
       "      <td>0.038356</td>\n",
       "      <td>-2.076472e-16</td>\n",
       "    </tr>\n",
       "    <tr>\n",
       "      <th>std</th>\n",
       "      <td>3.791351</td>\n",
       "      <td>11.685180</td>\n",
       "      <td>20.013889</td>\n",
       "      <td>0.290099</td>\n",
       "      <td>0.234463</td>\n",
       "      <td>9.309765</td>\n",
       "      <td>0.050211</td>\n",
       "      <td>0.452683</td>\n",
       "      <td>0.192057</td>\n",
       "      <td>1.059859e+02</td>\n",
       "    </tr>\n",
       "    <tr>\n",
       "      <th>min</th>\n",
       "      <td>15.005900</td>\n",
       "      <td>8.800000</td>\n",
       "      <td>6.000000</td>\n",
       "      <td>0.000000</td>\n",
       "      <td>0.000000</td>\n",
       "      <td>42.400000</td>\n",
       "      <td>0.000000</td>\n",
       "      <td>0.000000</td>\n",
       "      <td>0.000000</td>\n",
       "      <td>-1.957965e+02</td>\n",
       "    </tr>\n",
       "    <tr>\n",
       "      <th>25%</th>\n",
       "      <td>21.842820</td>\n",
       "      <td>43.550000</td>\n",
       "      <td>47.750000</td>\n",
       "      <td>29.840000</td>\n",
       "      <td>0.000000</td>\n",
       "      <td>60.400000</td>\n",
       "      <td>0.000000</td>\n",
       "      <td>0.000000</td>\n",
       "      <td>0.000000</td>\n",
       "      <td>-9.377721e+01</td>\n",
       "    </tr>\n",
       "    <tr>\n",
       "      <th>50%</th>\n",
       "      <td>24.344490</td>\n",
       "      <td>53.800000</td>\n",
       "      <td>63.250000</td>\n",
       "      <td>29.985000</td>\n",
       "      <td>0.000000</td>\n",
       "      <td>66.600000</td>\n",
       "      <td>0.000000</td>\n",
       "      <td>0.000000</td>\n",
       "      <td>0.000000</td>\n",
       "      <td>4.146117e+00</td>\n",
       "    </tr>\n",
       "    <tr>\n",
       "      <th>75%</th>\n",
       "      <td>26.856530</td>\n",
       "      <td>62.450000</td>\n",
       "      <td>78.000000</td>\n",
       "      <td>30.120000</td>\n",
       "      <td>0.000000</td>\n",
       "      <td>72.700000</td>\n",
       "      <td>0.000000</td>\n",
       "      <td>1.000000</td>\n",
       "      <td>0.000000</td>\n",
       "      <td>9.444932e+01</td>\n",
       "    </tr>\n",
       "    <tr>\n",
       "      <th>max</th>\n",
       "      <td>40.496770</td>\n",
       "      <td>82.400000</td>\n",
       "      <td>100.000000</td>\n",
       "      <td>30.690000</td>\n",
       "      <td>1.000000</td>\n",
       "      <td>105.800000</td>\n",
       "      <td>1.000000</td>\n",
       "      <td>1.000000</td>\n",
       "      <td>1.000000</td>\n",
       "      <td>1.981669e+02</td>\n",
       "    </tr>\n",
       "  </tbody>\n",
       "</table>\n",
       "</div>"
      ],
      "text/plain": [
       "                VAR        dewpti           hum     pressurei          rain  \\\n",
       "count  34368.000000  35040.000000  35040.000000  35040.000000  35040.000000   \n",
       "mean      24.551156     52.720154     61.963899     29.979410      0.076163   \n",
       "std        3.791351     11.685180     20.013889      0.290099      0.234463   \n",
       "min       15.005900      8.800000      6.000000      0.000000      0.000000   \n",
       "25%       21.842820     43.550000     47.750000     29.840000      0.000000   \n",
       "50%       24.344490     53.800000     63.250000     29.985000      0.000000   \n",
       "75%       26.856530     62.450000     78.000000     30.120000      0.000000   \n",
       "max       40.496770     82.400000    100.000000     30.690000      1.000000   \n",
       "\n",
       "              tempi       thunder           Day       Holiday         PCA_1  \n",
       "count  35040.000000  35040.000000  35040.000000  35040.000000  3.504000e+04  \n",
       "mean      66.614993      0.003289      0.287671      0.038356 -2.076472e-16  \n",
       "std        9.309765      0.050211      0.452683      0.192057  1.059859e+02  \n",
       "min       42.400000      0.000000      0.000000      0.000000 -1.957965e+02  \n",
       "25%       60.400000      0.000000      0.000000      0.000000 -9.377721e+01  \n",
       "50%       66.600000      0.000000      0.000000      0.000000  4.146117e+00  \n",
       "75%       72.700000      0.000000      1.000000      0.000000  9.444932e+01  \n",
       "max      105.800000      1.000000      1.000000      1.000000  1.981669e+02  "
      ]
     },
     "execution_count": 70,
     "metadata": {},
     "output_type": "execute_result"
    }
   ],
   "source": [
    "df.describe()"
   ]
  },
  {
   "cell_type": "markdown",
   "metadata": {
    "deletable": true,
    "editable": true
   },
   "source": [
    "Zmienne:\n",
    "* rain\n",
    "* thunder\n",
    "* Day\n",
    "* Holiday \n",
    "\n",
    "przyjmują wartości dyskretne (binarne)."
   ]
  },
  {
   "cell_type": "code",
   "execution_count": 102,
   "metadata": {
    "collapsed": true,
    "deletable": true,
    "editable": true
   },
   "outputs": [],
   "source": [
    "BINARY_COLS = ['rain', 'thunder', 'Day', 'Holiday']\n",
    "CONT_COLS = ['dewpti', 'hum', 'pressurei', 'tempi', 'PCA_1', 'month', 'day', 'hour', 'minute']"
   ]
  },
  {
   "cell_type": "markdown",
   "metadata": {
    "deletable": true,
    "editable": true
   },
   "source": [
    "### Dodatkowe kolumny z czasem"
   ]
  },
  {
   "cell_type": "code",
   "execution_count": 103,
   "metadata": {
    "collapsed": false,
    "deletable": true,
    "editable": true
   },
   "outputs": [],
   "source": [
    "df['month'] = pd.to_datetime(df['Date']).apply(lambda x: x.month)"
   ]
  },
  {
   "cell_type": "code",
   "execution_count": 104,
   "metadata": {
    "collapsed": true,
    "deletable": true,
    "editable": true
   },
   "outputs": [],
   "source": [
    "df['day'] = pd.to_datetime(df['Date']).apply(lambda x: x.day)"
   ]
  },
  {
   "cell_type": "code",
   "execution_count": 105,
   "metadata": {
    "collapsed": false,
    "deletable": true,
    "editable": true
   },
   "outputs": [],
   "source": [
    "df['hour'] = pd.to_datetime(df['Date']).apply(lambda x: x.hour)"
   ]
  },
  {
   "cell_type": "code",
   "execution_count": 106,
   "metadata": {
    "collapsed": true,
    "deletable": true,
    "editable": true
   },
   "outputs": [],
   "source": [
    "df['minute'] = pd.to_datetime(df['Date']).apply(lambda x: x.minute)"
   ]
  },
  {
   "cell_type": "markdown",
   "metadata": {
    "deletable": true,
    "editable": true
   },
   "source": [
    "### Normalizacja zmiennych ciągłych"
   ]
  },
  {
   "cell_type": "code",
   "execution_count": 107,
   "metadata": {
    "collapsed": true,
    "deletable": true,
    "editable": true
   },
   "outputs": [],
   "source": [
    "from sklearn.preprocessing import StandardScaler"
   ]
  },
  {
   "cell_type": "code",
   "execution_count": 108,
   "metadata": {
    "collapsed": true,
    "deletable": true,
    "editable": true
   },
   "outputs": [],
   "source": [
    "scaler = StandardScaler()"
   ]
  },
  {
   "cell_type": "code",
   "execution_count": 109,
   "metadata": {
    "collapsed": false,
    "deletable": true,
    "editable": true
   },
   "outputs": [],
   "source": [
    "df[CONT_COLS] = scaler.fit_transform(df[CONT_COLS].values)"
   ]
  },
  {
   "cell_type": "code",
   "execution_count": 110,
   "metadata": {
    "collapsed": false,
    "deletable": true,
    "editable": true
   },
   "outputs": [
    {
     "data": {
      "text/html": [
       "<div>\n",
       "<style scoped>\n",
       "    .dataframe tbody tr th:only-of-type {\n",
       "        vertical-align: middle;\n",
       "    }\n",
       "\n",
       "    .dataframe tbody tr th {\n",
       "        vertical-align: top;\n",
       "    }\n",
       "\n",
       "    .dataframe thead th {\n",
       "        text-align: right;\n",
       "    }\n",
       "</style>\n",
       "<table border=\"1\" class=\"dataframe\">\n",
       "  <thead>\n",
       "    <tr style=\"text-align: right;\">\n",
       "      <th></th>\n",
       "      <th>Date</th>\n",
       "      <th>VAR</th>\n",
       "      <th>dewpti</th>\n",
       "      <th>hum</th>\n",
       "      <th>pressurei</th>\n",
       "      <th>rain</th>\n",
       "      <th>tempi</th>\n",
       "      <th>thunder</th>\n",
       "      <th>Day</th>\n",
       "      <th>Holiday</th>\n",
       "      <th>PCA_1</th>\n",
       "      <th>month</th>\n",
       "      <th>day</th>\n",
       "      <th>hour</th>\n",
       "      <th>minute</th>\n",
       "    </tr>\n",
       "  </thead>\n",
       "  <tbody>\n",
       "    <tr>\n",
       "      <th>0</th>\n",
       "      <td>2016-05-01 00:00:00</td>\n",
       "      <td>24.25751</td>\n",
       "      <td>0.819840</td>\n",
       "      <td>1.001124</td>\n",
       "      <td>-0.066908</td>\n",
       "      <td>0.0</td>\n",
       "      <td>0.095064</td>\n",
       "      <td>0.0</td>\n",
       "      <td>1</td>\n",
       "      <td>0</td>\n",
       "      <td>-0.145490</td>\n",
       "      <td>-0.442602</td>\n",
       "      <td>-1.673503</td>\n",
       "      <td>-1.661325</td>\n",
       "      <td>-1.341641</td>\n",
       "    </tr>\n",
       "    <tr>\n",
       "      <th>1</th>\n",
       "      <td>2016-05-01 00:15:00</td>\n",
       "      <td>25.38191</td>\n",
       "      <td>-0.245627</td>\n",
       "      <td>1.123958</td>\n",
       "      <td>-0.506223</td>\n",
       "      <td>0.0</td>\n",
       "      <td>0.069069</td>\n",
       "      <td>0.0</td>\n",
       "      <td>1</td>\n",
       "      <td>0</td>\n",
       "      <td>1.869774</td>\n",
       "      <td>-0.442602</td>\n",
       "      <td>-1.673503</td>\n",
       "      <td>-1.661325</td>\n",
       "      <td>-0.447214</td>\n",
       "    </tr>\n",
       "    <tr>\n",
       "      <th>2</th>\n",
       "      <td>2016-05-01 00:30:00</td>\n",
       "      <td>25.10542</td>\n",
       "      <td>0.845514</td>\n",
       "      <td>1.300920</td>\n",
       "      <td>-0.101379</td>\n",
       "      <td>0.0</td>\n",
       "      <td>-0.044577</td>\n",
       "      <td>0.0</td>\n",
       "      <td>1</td>\n",
       "      <td>0</td>\n",
       "      <td>0.986017</td>\n",
       "      <td>-0.442602</td>\n",
       "      <td>-1.673503</td>\n",
       "      <td>-1.661325</td>\n",
       "      <td>0.447214</td>\n",
       "    </tr>\n",
       "    <tr>\n",
       "      <th>3</th>\n",
       "      <td>2016-05-01 00:45:00</td>\n",
       "      <td>24.22065</td>\n",
       "      <td>0.832677</td>\n",
       "      <td>1.188497</td>\n",
       "      <td>-0.101379</td>\n",
       "      <td>0.0</td>\n",
       "      <td>-0.023094</td>\n",
       "      <td>0.0</td>\n",
       "      <td>1</td>\n",
       "      <td>0</td>\n",
       "      <td>1.127663</td>\n",
       "      <td>-0.442602</td>\n",
       "      <td>-1.673503</td>\n",
       "      <td>-1.661325</td>\n",
       "      <td>1.341641</td>\n",
       "    </tr>\n",
       "    <tr>\n",
       "      <th>4</th>\n",
       "      <td>2016-05-01 01:00:00</td>\n",
       "      <td>24.18378</td>\n",
       "      <td>0.819840</td>\n",
       "      <td>1.076073</td>\n",
       "      <td>-0.101379</td>\n",
       "      <td>0.0</td>\n",
       "      <td>-0.001611</td>\n",
       "      <td>0.0</td>\n",
       "      <td>1</td>\n",
       "      <td>0</td>\n",
       "      <td>1.269359</td>\n",
       "      <td>-0.442602</td>\n",
       "      <td>-1.673503</td>\n",
       "      <td>-1.516862</td>\n",
       "      <td>-1.341641</td>\n",
       "    </tr>\n",
       "  </tbody>\n",
       "</table>\n",
       "</div>"
      ],
      "text/plain": [
       "                 Date       VAR    dewpti       hum  pressurei  rain  \\\n",
       "0 2016-05-01 00:00:00  24.25751  0.819840  1.001124  -0.066908   0.0   \n",
       "1 2016-05-01 00:15:00  25.38191 -0.245627  1.123958  -0.506223   0.0   \n",
       "2 2016-05-01 00:30:00  25.10542  0.845514  1.300920  -0.101379   0.0   \n",
       "3 2016-05-01 00:45:00  24.22065  0.832677  1.188497  -0.101379   0.0   \n",
       "4 2016-05-01 01:00:00  24.18378  0.819840  1.076073  -0.101379   0.0   \n",
       "\n",
       "      tempi  thunder  Day  Holiday     PCA_1     month       day      hour  \\\n",
       "0  0.095064      0.0    1        0 -0.145490 -0.442602 -1.673503 -1.661325   \n",
       "1  0.069069      0.0    1        0  1.869774 -0.442602 -1.673503 -1.661325   \n",
       "2 -0.044577      0.0    1        0  0.986017 -0.442602 -1.673503 -1.661325   \n",
       "3 -0.023094      0.0    1        0  1.127663 -0.442602 -1.673503 -1.661325   \n",
       "4 -0.001611      0.0    1        0  1.269359 -0.442602 -1.673503 -1.516862   \n",
       "\n",
       "     minute  \n",
       "0 -1.341641  \n",
       "1 -0.447214  \n",
       "2  0.447214  \n",
       "3  1.341641  \n",
       "4 -1.341641  "
      ]
     },
     "execution_count": 110,
     "metadata": {},
     "output_type": "execute_result"
    }
   ],
   "source": [
    "df.head()"
   ]
  },
  {
   "cell_type": "code",
   "execution_count": 111,
   "metadata": {
    "collapsed": true,
    "deletable": true,
    "editable": true
   },
   "outputs": [],
   "source": [
    "FEATURES = df.columns.drop([\"Date\",\"VAR\"])\n",
    "GROUND_TRUTH = [\"VAR\"]"
   ]
  },
  {
   "cell_type": "markdown",
   "metadata": {
    "deletable": true,
    "editable": true
   },
   "source": [
    "### Przygotowanie danych do sieci rekurencyjnej"
   ]
  },
  {
   "cell_type": "code",
   "execution_count": 112,
   "metadata": {
    "collapsed": false,
    "deletable": true,
    "editable": true
   },
   "outputs": [],
   "source": [
    "def prepare_recurrent_input(df, seq_size=3):\n",
    "    '''\n",
    "    \n",
    "    A function to prepare sequences \n",
    "    for recurrent neural network\n",
    "    \n",
    "    '''\n",
    "    df_ret = df.copy()\n",
    "    \n",
    "    pad = (seq_size - 1) / 2\n",
    "    \n",
    "    cols = df.columns.values.tolist()\n",
    "    left_cols = []\n",
    "    right_cols = []\n",
    "    \n",
    "    for i in range(pad):\n",
    "        i += 1\n",
    "        \n",
    "        for col in df.columns:\n",
    "            col_name = \"{}_t-{}\".format(col, i)\n",
    "            df_ret[col_name] = df_ret[col].shift(i)\n",
    "            left_cols.append(col_name)\n",
    "\n",
    "        for col in df.columns:\n",
    "            col_name = \"{}_t+{}\".format(col, i)\n",
    "            df_ret[col_name] = df_ret[col].shift(-i)\n",
    "            right_cols.append(col_name)\n",
    "   \n",
    "    columns = left_cols[::-1]+cols+right_cols     \n",
    "    return df_ret[columns]"
   ]
  },
  {
   "cell_type": "code",
   "execution_count": 113,
   "metadata": {
    "collapsed": false,
    "deletable": true,
    "editable": true
   },
   "outputs": [],
   "source": [
    "rec_df = prepare_recurrent_input(df[FEATURES], 5)"
   ]
  },
  {
   "cell_type": "code",
   "execution_count": 114,
   "metadata": {
    "collapsed": false,
    "deletable": true,
    "editable": true
   },
   "outputs": [],
   "source": [
    "rec_df.dropna(inplace=True)"
   ]
  },
  {
   "cell_type": "code",
   "execution_count": 115,
   "metadata": {
    "collapsed": false,
    "deletable": true,
    "editable": true
   },
   "outputs": [
    {
     "data": {
      "text/plain": [
       "35040"
      ]
     },
     "execution_count": 115,
     "metadata": {},
     "output_type": "execute_result"
    }
   ],
   "source": [
    "len(df)"
   ]
  },
  {
   "cell_type": "code",
   "execution_count": 116,
   "metadata": {
    "collapsed": false,
    "deletable": true,
    "editable": true
   },
   "outputs": [
    {
     "data": {
      "text/plain": [
       "35036"
      ]
     },
     "execution_count": 116,
     "metadata": {},
     "output_type": "execute_result"
    }
   ],
   "source": [
    "len(rec_df)"
   ]
  },
  {
   "cell_type": "code",
   "execution_count": 117,
   "metadata": {
    "collapsed": false,
    "deletable": true,
    "editable": true
   },
   "outputs": [
    {
     "data": {
      "text/html": [
       "<div>\n",
       "<style scoped>\n",
       "    .dataframe tbody tr th:only-of-type {\n",
       "        vertical-align: middle;\n",
       "    }\n",
       "\n",
       "    .dataframe tbody tr th {\n",
       "        vertical-align: top;\n",
       "    }\n",
       "\n",
       "    .dataframe thead th {\n",
       "        text-align: right;\n",
       "    }\n",
       "</style>\n",
       "<table border=\"1\" class=\"dataframe\">\n",
       "  <thead>\n",
       "    <tr style=\"text-align: right;\">\n",
       "      <th></th>\n",
       "      <th>minute_t-2</th>\n",
       "      <th>hour_t-2</th>\n",
       "      <th>day_t-2</th>\n",
       "      <th>month_t-2</th>\n",
       "      <th>PCA_1_t-2</th>\n",
       "      <th>Holiday_t-2</th>\n",
       "      <th>Day_t-2</th>\n",
       "      <th>thunder_t-2</th>\n",
       "      <th>tempi_t-2</th>\n",
       "      <th>rain_t-2</th>\n",
       "      <th>...</th>\n",
       "      <th>rain_t+2</th>\n",
       "      <th>tempi_t+2</th>\n",
       "      <th>thunder_t+2</th>\n",
       "      <th>Day_t+2</th>\n",
       "      <th>Holiday_t+2</th>\n",
       "      <th>PCA_1_t+2</th>\n",
       "      <th>month_t+2</th>\n",
       "      <th>day_t+2</th>\n",
       "      <th>hour_t+2</th>\n",
       "      <th>minute_t+2</th>\n",
       "    </tr>\n",
       "  </thead>\n",
       "  <tbody>\n",
       "    <tr>\n",
       "      <th>2</th>\n",
       "      <td>-1.341641</td>\n",
       "      <td>-1.661325</td>\n",
       "      <td>-1.673503</td>\n",
       "      <td>-0.442602</td>\n",
       "      <td>-0.145490</td>\n",
       "      <td>0.0</td>\n",
       "      <td>1.0</td>\n",
       "      <td>0.0</td>\n",
       "      <td>0.095064</td>\n",
       "      <td>0.0</td>\n",
       "      <td>...</td>\n",
       "      <td>0.0</td>\n",
       "      <td>-0.001611</td>\n",
       "      <td>0.0</td>\n",
       "      <td>1.0</td>\n",
       "      <td>0.0</td>\n",
       "      <td>1.269359</td>\n",
       "      <td>-0.442602</td>\n",
       "      <td>-1.673503</td>\n",
       "      <td>-1.516862</td>\n",
       "      <td>-1.341641</td>\n",
       "    </tr>\n",
       "    <tr>\n",
       "      <th>3</th>\n",
       "      <td>-0.447214</td>\n",
       "      <td>-1.661325</td>\n",
       "      <td>-1.673503</td>\n",
       "      <td>-0.442602</td>\n",
       "      <td>1.869774</td>\n",
       "      <td>0.0</td>\n",
       "      <td>1.0</td>\n",
       "      <td>0.0</td>\n",
       "      <td>0.069069</td>\n",
       "      <td>0.0</td>\n",
       "      <td>...</td>\n",
       "      <td>0.0</td>\n",
       "      <td>-0.023094</td>\n",
       "      <td>0.0</td>\n",
       "      <td>1.0</td>\n",
       "      <td>0.0</td>\n",
       "      <td>1.316278</td>\n",
       "      <td>-0.442602</td>\n",
       "      <td>-1.673503</td>\n",
       "      <td>-1.516862</td>\n",
       "      <td>-0.447214</td>\n",
       "    </tr>\n",
       "    <tr>\n",
       "      <th>4</th>\n",
       "      <td>0.447214</td>\n",
       "      <td>-1.661325</td>\n",
       "      <td>-1.673503</td>\n",
       "      <td>-0.442602</td>\n",
       "      <td>0.986017</td>\n",
       "      <td>0.0</td>\n",
       "      <td>1.0</td>\n",
       "      <td>0.0</td>\n",
       "      <td>-0.044577</td>\n",
       "      <td>0.0</td>\n",
       "      <td>...</td>\n",
       "      <td>0.0</td>\n",
       "      <td>-0.044577</td>\n",
       "      <td>0.0</td>\n",
       "      <td>1.0</td>\n",
       "      <td>0.0</td>\n",
       "      <td>1.363225</td>\n",
       "      <td>-0.442602</td>\n",
       "      <td>-1.673503</td>\n",
       "      <td>-1.516862</td>\n",
       "      <td>0.447214</td>\n",
       "    </tr>\n",
       "    <tr>\n",
       "      <th>5</th>\n",
       "      <td>1.341641</td>\n",
       "      <td>-1.661325</td>\n",
       "      <td>-1.673503</td>\n",
       "      <td>-0.442602</td>\n",
       "      <td>1.127663</td>\n",
       "      <td>0.0</td>\n",
       "      <td>1.0</td>\n",
       "      <td>0.0</td>\n",
       "      <td>-0.023094</td>\n",
       "      <td>0.0</td>\n",
       "      <td>...</td>\n",
       "      <td>0.0</td>\n",
       "      <td>-0.023094</td>\n",
       "      <td>0.0</td>\n",
       "      <td>1.0</td>\n",
       "      <td>0.0</td>\n",
       "      <td>1.221643</td>\n",
       "      <td>-0.442602</td>\n",
       "      <td>-1.673503</td>\n",
       "      <td>-1.516862</td>\n",
       "      <td>1.341641</td>\n",
       "    </tr>\n",
       "    <tr>\n",
       "      <th>6</th>\n",
       "      <td>-1.341641</td>\n",
       "      <td>-1.516862</td>\n",
       "      <td>-1.673503</td>\n",
       "      <td>-0.442602</td>\n",
       "      <td>1.269359</td>\n",
       "      <td>0.0</td>\n",
       "      <td>1.0</td>\n",
       "      <td>0.0</td>\n",
       "      <td>-0.001611</td>\n",
       "      <td>0.0</td>\n",
       "      <td>...</td>\n",
       "      <td>0.0</td>\n",
       "      <td>-0.001611</td>\n",
       "      <td>0.0</td>\n",
       "      <td>1.0</td>\n",
       "      <td>0.0</td>\n",
       "      <td>1.080067</td>\n",
       "      <td>-0.442602</td>\n",
       "      <td>-1.673503</td>\n",
       "      <td>-1.372399</td>\n",
       "      <td>-1.341641</td>\n",
       "    </tr>\n",
       "  </tbody>\n",
       "</table>\n",
       "<p>5 rows × 65 columns</p>\n",
       "</div>"
      ],
      "text/plain": [
       "   minute_t-2  hour_t-2   day_t-2  month_t-2  PCA_1_t-2  Holiday_t-2  Day_t-2  \\\n",
       "2   -1.341641 -1.661325 -1.673503  -0.442602  -0.145490          0.0      1.0   \n",
       "3   -0.447214 -1.661325 -1.673503  -0.442602   1.869774          0.0      1.0   \n",
       "4    0.447214 -1.661325 -1.673503  -0.442602   0.986017          0.0      1.0   \n",
       "5    1.341641 -1.661325 -1.673503  -0.442602   1.127663          0.0      1.0   \n",
       "6   -1.341641 -1.516862 -1.673503  -0.442602   1.269359          0.0      1.0   \n",
       "\n",
       "   thunder_t-2  tempi_t-2  rain_t-2     ...      rain_t+2  tempi_t+2  \\\n",
       "2          0.0   0.095064       0.0     ...           0.0  -0.001611   \n",
       "3          0.0   0.069069       0.0     ...           0.0  -0.023094   \n",
       "4          0.0  -0.044577       0.0     ...           0.0  -0.044577   \n",
       "5          0.0  -0.023094       0.0     ...           0.0  -0.023094   \n",
       "6          0.0  -0.001611       0.0     ...           0.0  -0.001611   \n",
       "\n",
       "   thunder_t+2  Day_t+2  Holiday_t+2  PCA_1_t+2  month_t+2   day_t+2  \\\n",
       "2          0.0      1.0          0.0   1.269359  -0.442602 -1.673503   \n",
       "3          0.0      1.0          0.0   1.316278  -0.442602 -1.673503   \n",
       "4          0.0      1.0          0.0   1.363225  -0.442602 -1.673503   \n",
       "5          0.0      1.0          0.0   1.221643  -0.442602 -1.673503   \n",
       "6          0.0      1.0          0.0   1.080067  -0.442602 -1.673503   \n",
       "\n",
       "   hour_t+2  minute_t+2  \n",
       "2 -1.516862   -1.341641  \n",
       "3 -1.516862   -0.447214  \n",
       "4 -1.516862    0.447214  \n",
       "5 -1.516862    1.341641  \n",
       "6 -1.372399   -1.341641  \n",
       "\n",
       "[5 rows x 65 columns]"
      ]
     },
     "execution_count": 117,
     "metadata": {},
     "output_type": "execute_result"
    }
   ],
   "source": [
    "rec_df.head()"
   ]
  },
  {
   "cell_type": "markdown",
   "metadata": {
    "deletable": true,
    "editable": true
   },
   "source": [
    "### Przekształcanie wejścia"
   ]
  },
  {
   "cell_type": "code",
   "execution_count": 118,
   "metadata": {
    "collapsed": false,
    "deletable": true,
    "editable": true
   },
   "outputs": [],
   "source": [
    "rec_df[\"VAR\"] = df[\"VAR\"].iloc[rec_df.index.values]"
   ]
  },
  {
   "cell_type": "code",
   "execution_count": 119,
   "metadata": {
    "collapsed": false,
    "deletable": true,
    "editable": true
   },
   "outputs": [],
   "source": [
    "train_df = rec_df[~rec_df.VAR.isna()]"
   ]
  },
  {
   "cell_type": "code",
   "execution_count": 120,
   "metadata": {
    "collapsed": true,
    "deletable": true,
    "editable": true
   },
   "outputs": [],
   "source": [
    "test_df = rec_df[rec_df.VAR.isna()]"
   ]
  },
  {
   "cell_type": "code",
   "execution_count": 121,
   "metadata": {
    "collapsed": false,
    "deletable": true,
    "editable": true
   },
   "outputs": [],
   "source": [
    "#plt.figure(figsize=(20,10))\n",
    "#plt.plot(train_df.VAR)"
   ]
  },
  {
   "cell_type": "markdown",
   "metadata": {
    "deletable": true,
    "editable": true
   },
   "source": [
    "### Podział datasetu"
   ]
  },
  {
   "cell_type": "code",
   "execution_count": 122,
   "metadata": {
    "collapsed": false,
    "deletable": true,
    "editable": true
   },
   "outputs": [
    {
     "data": {
      "text/plain": [
       "34366"
      ]
     },
     "execution_count": 122,
     "metadata": {},
     "output_type": "execute_result"
    }
   ],
   "source": [
    "idx = range(len(train_df))\n",
    "len(idx)"
   ]
  },
  {
   "cell_type": "code",
   "execution_count": null,
   "metadata": {
    "collapsed": false,
    "deletable": true,
    "editable": true
   },
   "outputs": [],
   "source": []
  },
  {
   "cell_type": "code",
   "execution_count": 123,
   "metadata": {
    "collapsed": false,
    "deletable": true,
    "editable": true
   },
   "outputs": [
    {
     "data": {
      "text/plain": [
       "11"
      ]
     },
     "execution_count": 123,
     "metadata": {},
     "output_type": "execute_result"
    }
   ],
   "source": [
    "train_df.shape\n",
    "231 / 21"
   ]
  },
  {
   "cell_type": "code",
   "execution_count": 124,
   "metadata": {
    "collapsed": false,
    "deletable": true,
    "editable": true
   },
   "outputs": [],
   "source": [
    "dev_last_idx = int(0.8 * len(idx))"
   ]
  },
  {
   "cell_type": "code",
   "execution_count": 125,
   "metadata": {
    "collapsed": false,
    "deletable": true,
    "editable": true
   },
   "outputs": [],
   "source": [
    "dev_idx = idx[:dev_last_idx]\n",
    "dev_test_idx = idx[dev_last_idx:]"
   ]
  },
  {
   "cell_type": "markdown",
   "metadata": {
    "deletable": true,
    "editable": true
   },
   "source": [
    "### Reshape"
   ]
  },
  {
   "cell_type": "code",
   "execution_count": 126,
   "metadata": {
    "collapsed": false,
    "deletable": true,
    "editable": true
   },
   "outputs": [],
   "source": [
    "# Dane treningowe\n",
    "X_train = train_df.iloc[:dev_last_idx][train_df.columns[:-1]].values\n",
    "y_train = train_df.iloc[:dev_last_idx][train_df.columns[-1]].values"
   ]
  },
  {
   "cell_type": "code",
   "execution_count": 127,
   "metadata": {
    "collapsed": true,
    "deletable": true,
    "editable": true
   },
   "outputs": [],
   "source": [
    "X_test = test_df.iloc[:dev_last_idx][test_df.columns[:-1]].values\n",
    "#y_test = test_df.iloc[:dev_last_idx][test_df.columns[-1]].values"
   ]
  },
  {
   "cell_type": "code",
   "execution_count": 128,
   "metadata": {
    "collapsed": false,
    "deletable": true,
    "editable": true
   },
   "outputs": [
    {
     "data": {
      "text/plain": [
       "(27492, 65)"
      ]
     },
     "execution_count": 128,
     "metadata": {},
     "output_type": "execute_result"
    }
   ],
   "source": [
    "X_train.shape"
   ]
  },
  {
   "cell_type": "code",
   "execution_count": 129,
   "metadata": {
    "collapsed": false,
    "deletable": true,
    "editable": true
   },
   "outputs": [],
   "source": [
    "X_train = X_train.reshape(X_train.shape[0], 13, -1).swapaxes(1, 2)\n",
    "X_test = X_test.reshape(X_test.shape[0], 13, -1).swapaxes(1, 2)"
   ]
  },
  {
   "cell_type": "markdown",
   "metadata": {
    "deletable": true,
    "editable": true
   },
   "source": []
  },
  {
   "cell_type": "code",
   "execution_count": 130,
   "metadata": {
    "collapsed": false,
    "deletable": true,
    "editable": true
   },
   "outputs": [],
   "source": [
    "#for c in train_df.columns:\n",
    "#    print c"
   ]
  },
  {
   "cell_type": "code",
   "execution_count": 131,
   "metadata": {
    "collapsed": false,
    "deletable": true,
    "editable": true
   },
   "outputs": [],
   "source": [
    "np.savez(\"data/rnn_input_s5.npz\", X_train=X_train, X_test=X_test, y_train=y_train)"
   ]
  },
  {
   "cell_type": "code",
   "execution_count": 132,
   "metadata": {
    "collapsed": false,
    "deletable": true,
    "editable": true
   },
   "outputs": [
    {
     "data": {
      "text/plain": [
       "(27492, 5, 13)"
      ]
     },
     "execution_count": 132,
     "metadata": {},
     "output_type": "execute_result"
    }
   ],
   "source": [
    "loaded = np.load(\"data/rnn_input_s5.npz\")\n",
    "loaded['X_train'].shape"
   ]
  },
  {
   "cell_type": "code",
   "execution_count": null,
   "metadata": {
    "collapsed": true
   },
   "outputs": [],
   "source": []
  }
 ],
 "metadata": {
  "kernelspec": {
   "display_name": "Python 2",
   "language": "python",
   "name": "python2"
  },
  "language_info": {
   "codemirror_mode": {
    "name": "ipython",
    "version": 2
   },
   "file_extension": ".py",
   "mimetype": "text/x-python",
   "name": "python",
   "nbconvert_exporter": "python",
   "pygments_lexer": "ipython2",
   "version": "2.7.12"
  }
 },
 "nbformat": 4,
 "nbformat_minor": 0
}
